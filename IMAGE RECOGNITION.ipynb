{
 "cells": [
  {
   "cell_type": "code",
   "execution_count": 1,
   "metadata": {},
   "outputs": [],
   "source": [
    "#d={\"PIN NO 1\":50,\"PIN NO 2\":170,\"PIN NO 3\":40}\n",
    "#def check(dictan):\n",
    " #   for pin,voltage in dictan.items():\n",
    "  #      if dictan[pin]>=100:\n",
    "   #         pin=\"PIN TURNED ON\"\n",
    "    #        print(pin)\n",
    "     #   else:\n",
    "      #      pin='PIN TURNED OFF'\n",
    "       #     print(pin)\n",
    "#check(d)"
   ]
  },
  {
   "cell_type": "code",
   "execution_count": 7,
   "metadata": {},
   "outputs": [
    {
     "name": "stdout",
     "output_type": "stream",
     "text": [
      "[{'faceId': '973a0f87-b519-4f31-aa2b-a0ef65bb0885', 'faceRectangle': {'top': 221, 'left': 132, 'width': 233, 'height': 233}}]\n"
     ]
    }
   ],
   "source": [
    "import cognitive_face as CF\n",
    "\n",
    "KEY = 'a83e47ffd16147dfa18edbdeb487c8b4'  # Replace with a valid Subscription Key here.\n",
    "CF.Key.set(KEY)\n",
    "\n",
    "BASE_URL = 'https://westcentralus.api.cognitive.microsoft.com/face/v1.0/'  # Replace with your regional Base URL\n",
    "CF.BaseUrl.set(BASE_URL)\n",
    "\n",
    "img_path = 'C:/Users/Dell/Pictures/me2.jpeg'\n",
    "result = CF.face.detect(img_path)\n",
    "print(result)\n"
   ]
  },
  {
   "cell_type": "code",
   "execution_count": 11,
   "metadata": {},
   "outputs": [
    {
     "ename": "TypeError",
     "evalue": "Expected Ptr<cv::UMat> for argument 'img'",
     "output_type": "error",
     "traceback": [
      "\u001b[1;31m---------------------------------------------------------------------------\u001b[0m",
      "\u001b[1;31mTypeError\u001b[0m                                 Traceback (most recent call last)",
      "\u001b[1;32m<ipython-input-11-f636485b54de>\u001b[0m in \u001b[0;36m<module>\u001b[1;34m\u001b[0m\n\u001b[0;32m      4\u001b[0m \u001b[0mcv2\u001b[0m\u001b[1;33m.\u001b[0m\u001b[0mrectangle\u001b[0m\u001b[1;33m(\u001b[0m\u001b[0mimg\u001b[0m\u001b[1;33m,\u001b[0m \u001b[1;33m(\u001b[0m\u001b[0mfaceRect\u001b[0m\u001b[1;33m[\u001b[0m\u001b[1;34m\"left\"\u001b[0m\u001b[1;33m]\u001b[0m\u001b[1;33m,\u001b[0m \u001b[0mfaceRect\u001b[0m\u001b[1;33m[\u001b[0m\u001b[1;34m\"top\"\u001b[0m\u001b[1;33m]\u001b[0m\u001b[1;33m)\u001b[0m\u001b[1;33m,\u001b[0m \u001b[1;33m(\u001b[0m\u001b[0mfaceRect\u001b[0m\u001b[1;33m[\u001b[0m\u001b[1;34m\"left\"\u001b[0m\u001b[1;33m]\u001b[0m \u001b[1;33m+\u001b[0m \u001b[0mfaceRect\u001b[0m\u001b[1;33m[\u001b[0m\u001b[1;34m\"width\"\u001b[0m\u001b[1;33m]\u001b[0m\u001b[1;33m,\u001b[0m \u001b[0mfaceRect\u001b[0m\u001b[1;33m[\u001b[0m\u001b[1;34m\"top\"\u001b[0m\u001b[1;33m]\u001b[0m \u001b[1;33m+\u001b[0m \u001b[0mfaceRect\u001b[0m\u001b[1;33m[\u001b[0m\u001b[1;34m\"height\"\u001b[0m\u001b[1;33m]\u001b[0m\u001b[1;33m)\u001b[0m\u001b[1;33m,\u001b[0m \u001b[1;33m(\u001b[0m\u001b[1;36m255\u001b[0m\u001b[1;33m,\u001b[0m\u001b[1;36m255\u001b[0m\u001b[1;33m,\u001b[0m\u001b[1;36m0\u001b[0m\u001b[1;33m)\u001b[0m\u001b[1;33m,\u001b[0m \u001b[1;36m2\u001b[0m\u001b[1;33m)\u001b[0m\u001b[1;33m\u001b[0m\u001b[1;33m\u001b[0m\u001b[0m\n\u001b[0;32m      5\u001b[0m \u001b[0mcv2\u001b[0m\u001b[1;33m.\u001b[0m\u001b[0mimshow\u001b[0m\u001b[1;33m(\u001b[0m\u001b[1;34m\"image\"\u001b[0m\u001b[1;33m,\u001b[0m \u001b[0mimg\u001b[0m\u001b[1;33m)\u001b[0m\u001b[1;33m\u001b[0m\u001b[1;33m\u001b[0m\u001b[0m\n\u001b[1;32m----> 6\u001b[1;33m \u001b[0mcv2\u001b[0m\u001b[1;33m.\u001b[0m\u001b[0mputText\u001b[0m\u001b[1;33m(\u001b[0m\u001b[1;34m\"image\"\u001b[0m\u001b[1;33m,\u001b[0m \u001b[0mimg\u001b[0m\u001b[1;33m,\u001b[0m\u001b[1;33m(\u001b[0m\u001b[1;36m10\u001b[0m\u001b[1;33m,\u001b[0m\u001b[1;36m500\u001b[0m\u001b[1;33m)\u001b[0m\u001b[1;33m,\u001b[0m\u001b[0mfont\u001b[0m\u001b[1;33m,\u001b[0m \u001b[1;36m1\u001b[0m\u001b[1;33m,\u001b[0m\u001b[1;33m(\u001b[0m\u001b[1;36m255\u001b[0m\u001b[1;33m,\u001b[0m\u001b[1;36m255\u001b[0m\u001b[1;33m,\u001b[0m\u001b[1;36m255\u001b[0m\u001b[1;33m)\u001b[0m\u001b[1;33m,\u001b[0m\u001b[1;36m2\u001b[0m\u001b[1;33m)\u001b[0m\u001b[1;33m\u001b[0m\u001b[1;33m\u001b[0m\u001b[0m\n\u001b[0m\u001b[0;32m      7\u001b[0m \u001b[0mcv2\u001b[0m\u001b[1;33m.\u001b[0m\u001b[0mwaitKey\u001b[0m\u001b[1;33m(\u001b[0m\u001b[1;36m0\u001b[0m\u001b[1;33m)\u001b[0m\u001b[1;33m\u001b[0m\u001b[1;33m\u001b[0m\u001b[0m\n",
      "\u001b[1;31mTypeError\u001b[0m: Expected Ptr<cv::UMat> for argument 'img'"
     ]
    }
   ],
   "source": [
    "import cv2\n",
    "img = cv2.imread(\"C:/Users/Dell/Pictures/me2.jpeg\")\n",
    "faceRect = result[0][\"faceRectangle\"]\n",
    "cv2.rectangle(img, (faceRect[\"left\"], faceRect[\"top\"]), (faceRect[\"left\"] + faceRect[\"width\"], faceRect[\"top\"] + faceRect[\"height\"]), (255,255,0), 2)\n",
    "cv2.imshow(\"image\", img)\n",
    "cv2.waitKey(0)"
   ]
  },
  {
   "cell_type": "code",
   "execution_count": 1,
   "metadata": {},
   "outputs": [
    {
     "name": "stdout",
     "output_type": "stream",
     "text": [
      "Before saving image:\n",
      "['2.jpg', 'abs.jpg', 'afgw.png', 'AI.jpg', 'alright.jpg', 'anie pic.jpeg', 'BARCODE.png', 'BOOK COVER 1.psd', 'bookcover 2.jpg', 'bookcover 3.jpg', 'brochure 1.psd', 'broken 2.psd', 'broken.jpeg', 'BROKEN.psd', 'Camera Roll', 'CandyCam', 'content-writing-TRANSPARENT.png', 'contentd.png', 'coupons.psd', 'dc.jpg', 'desktop.ini', 'document 2.psd', 'download fiverr.jpg', 'download.jpg', 'elipse.psd', 'essay.jpg', 'Feedback', 'fiverr best.jpg', 'ghostland.png', 'git cheatsheet.jpg', 'GRAPHICS', 'hardwork.jpg', 'images.jpg', 'IMG-20191015-WA0003.jpg', 'img.jpg', 'me.jpeg', 'me2.jpeg', 'me3.jpeg', 'Screenshots', 'theproofreaders-logo2015d.jpg', 'Tou guzr zra.jpg', 'video of resuem.mp4', 'WhatsApp Image 2020-02-24 at 5.48.37 AM.jpeg']\n",
      "After saving image:\n",
      "['2.jpg', 'abs.jpg', 'afgw.png', 'AI.jpg', 'alright.jpg', 'anie pic.jpeg', 'BARCODE.png', 'BOOK COVER 1.psd', 'bookcover 2.jpg', 'bookcover 3.jpg', 'brochure 1.psd', 'broken 2.psd', 'broken.jpeg', 'BROKEN.psd', 'Camera Roll', 'CandyCam', 'content-writing-TRANSPARENT.png', 'contentd.png', 'coupons.psd', 'dc.jpg', 'desktop.ini', 'document 2.psd', 'download fiverr.jpg', 'download.jpg', 'elipse.psd', 'essay.jpg', 'Feedback', 'fiverr best.jpg', 'ghostland.png', 'git cheatsheet.jpg', 'GRAPHICS', 'hardwork.jpg', 'images.jpg', 'IMG-20191015-WA0003.jpg', 'img.jpg', 'me.jpeg', 'me2.jpeg', 'me3.jpeg', 'savedImage.jpg', 'Screenshots', 'theproofreaders-logo2015d.jpg', 'Tou guzr zra.jpg', 'video of resuem.mp4', 'WhatsApp Image 2020-02-24 at 5.48.37 AM.jpeg']\n",
      "Successfully saved\n"
     ]
    }
   ],
   "source": [
    "import cv2    \n",
    "import os \n",
    "image_path = r'C:/Users/Dell/Pictures/me2.jpeg' \n",
    "# Image directory \n",
    "directory = r'C:/Users/Dell/Pictures'\n",
    "  \n",
    "# Using cv2.imread() method \n",
    "# to read the image \n",
    "img = cv2.imread(image_path) \n",
    "  \n",
    "# Change the current directory  \n",
    "# to specified directory  \n",
    "os.chdir(directory) \n",
    "  \n",
    "# List files and directories   \n",
    "# in 'C:/Users/Rajnish/Desktop/GeeksforGeeks'   \n",
    "print(\"Before saving image:\")   \n",
    "print(os.listdir(directory))   \n",
    "  \n",
    "# Filename \n",
    "filename = 'savedImage.jpg'\n",
    "  \n",
    "# Using cv2.imwrite() method \n",
    "# Saving the image \n",
    "cv2.imwrite(filename, img) \n",
    "  \n",
    "# List files and directories   \n",
    "# in 'C:/Users / Rajnish / Desktop / GeeksforGeeks'   \n",
    "print(\"After saving image:\")   \n",
    "print(os.listdir(directory)) \n",
    "  \n",
    "print('Successfully saved')"
   ]
  },
  {
   "cell_type": "code",
   "execution_count": 5,
   "metadata": {},
   "outputs": [
    {
     "data": {
      "text/plain": [
       "-1"
      ]
     },
     "execution_count": 5,
     "metadata": {},
     "output_type": "execute_result"
    }
   ],
   "source": [
    "import numpy as np\n",
    "import cv2\n",
    "font = cv2.FONT_HERSHEY_SIMPLEX\n",
    "# Create a black image\n",
    "#img = np.zeros((512,512,3), np.uint8)\n",
    "\n",
    "cv2.putText(img,'its me',(10,500), font, 1,(255,255,255),2)\n",
    "#Display the image\n",
    "cv2.imshow(\"img\",img)\n",
    "\n",
    "cv2.waitKey(0)"
   ]
  },
  {
   "cell_type": "code",
   "execution_count": 6,
   "metadata": {},
   "outputs": [
    {
     "name": "stdout",
     "output_type": "stream",
     "text": [
      "(762, 480, 3)\n"
     ]
    }
   ],
   "source": [
    "import cv2  \n",
    "path = r'\"C:/Users/Dell/Pictures/me2.jpeg\"'    \n",
    "# Reading an image in default mode \n",
    "image = cv2.imread(path) \n",
    "    \n",
    "# Window name in which image is displayed \n",
    "window_name = 'Image'\n",
    "font = cv2.FONT_HERSHEY_SIMPLEX \n",
    "org = (50, 50)  \n",
    "fontScale = 1   \n",
    "# Blue color in BGR \n",
    "color = (255, 0, 0) \n",
    "  \n",
    "# Line thickness of 2 px \n",
    "thickness = 2\n",
    "   \n",
    "# Using cv2.putText() method \n",
    "image = cv2.putText(image, 'OpenCV', org, font,  \n",
    "                   fontScale, color, thickness, cv2.LINE_AA) \n",
    "   \n",
    "# Displaying the image \n",
    "image = cv2.imread('C:/Users/Dell/Pictures/me2.jpeg')\n",
    "print(image.shape)\n",
    "#cv2.imshow(\"image\",image)"
   ]
  },
  {
   "cell_type": "code",
   "execution_count": null,
   "metadata": {},
   "outputs": [],
   "source": [
    "import numpy as np\n",
    "import cv2\n",
    "img=cv2.imread('C:/Users/Dell/Pictures/me2.jpeg',10)\n",
    "cv2.imshow('image',img)\n",
    "#cv2.waitkey(0)\n",
    "#cv2.destroyallwindows()"
   ]
  },
  {
   "cell_type": "code",
   "execution_count": 2,
   "metadata": {},
   "outputs": [
    {
     "name": "stdout",
     "output_type": "stream",
     "text": [
      "enter the pin noa\n",
      "enter the pin volatge222\n",
      "{'a': 222}\n",
      " enter choicen\n",
      "PIN TURNED ON\n"
     ]
    }
   ],
   "source": [
    "dictan={}\n",
    "i=0\n",
    "choice=\"y\"\n",
    "while(i<=500 and choice==\"y\"):\n",
    "    pin_no=input(\"enter the pin no\")\n",
    "    pin_voltage=int(input(\"enter the pin volatge\"))\n",
    "    dictan[pin_no]=pin_voltage\n",
    "    print(dictan)\n",
    "    choice=input(\" enter choice\")\n",
    "    \n",
    "def check(dictan):\n",
    "    for pin_no,pin_voltage in dictan.items():\n",
    "        if dictan[pin_no]>=100:\n",
    "            pin=\"PIN TURNED ON\"\n",
    "            print(pin)\n",
    "        else:\n",
    "            pin='PIN TURNED OFF'\n",
    "            print(pin)\n",
    "check(dictan)"
   ]
  },
  {
   "cell_type": "code",
   "execution_count": null,
   "metadata": {},
   "outputs": [],
   "source": [
    "def key_input(event):\n",
    "    init()\n",
    "    print 'Key:', event.char\n",
    "    key_press = event.char\n",
    "    sleep_time = 0.030\n",
    "\n",
    "    if key_press.lower() == 'w':\n",
    "        forward(sleep_time)\n",
    "    elif key_press.lower() == 's':\n",
    "        reverse(sleep_time)\n",
    "    elif key_press.lower() == 'a':\n",
    "        turn_left(sleep_time)\n",
    "    elif key_press.lower() == 'd':\n",
    "        turn_right(sleep_time)\n",
    "    elif key_press.lower() =='q':\n",
    "        pivot_left(sleep_time)\n",
    "    elif key_press.lower() == 'e':\n",
    "        pivot_right(sleep_time)"
   ]
  },
  {
   "cell_type": "code",
   "execution_count": 1,
   "metadata": {},
   "outputs": [
    {
     "ename": "NameError",
     "evalue": "name 'tables' is not defined",
     "output_type": "error",
     "traceback": [
      "\u001b[1;31m---------------------------------------------------------------------------\u001b[0m",
      "\u001b[1;31mNameError\u001b[0m                                 Traceback (most recent call last)",
      "\u001b[1;32m<ipython-input-1-a7409971a90a>\u001b[0m in \u001b[0;36m<module>\u001b[1;34m\u001b[0m\n\u001b[0;32m      1\u001b[0m \u001b[0mcalled_table\u001b[0m\u001b[1;33m=\u001b[0m\u001b[1;32mFalse\u001b[0m          \u001b[1;31m#initially when no table is calling the waiter\u001b[0m\u001b[1;33m\u001b[0m\u001b[1;33m\u001b[0m\u001b[0m\n\u001b[1;32m----> 2\u001b[1;33m \u001b[1;32mfor\u001b[0m \u001b[0mcalling_table\u001b[0m \u001b[1;32min\u001b[0m \u001b[0mtables\u001b[0m\u001b[1;33m:\u001b[0m      \u001b[1;31m#for waiter to search the table\u001b[0m\u001b[1;33m\u001b[0m\u001b[1;33m\u001b[0m\u001b[0m\n\u001b[0m\u001b[0;32m      3\u001b[0m     \u001b[0minput\u001b[0m\u001b[1;33m=\u001b[0m\u001b[0mbool\u001b[0m\u001b[1;33m(\u001b[0m\u001b[1;34m\"Do you want to order,type 'True' else 'False'\"\u001b[0m\u001b[1;33m)\u001b[0m\u001b[1;33m\u001b[0m\u001b[1;33m\u001b[0m\u001b[0m\n\u001b[0;32m      4\u001b[0m     \u001b[1;32mif\u001b[0m \u001b[0mcalling_table\u001b[0m\u001b[1;33m==\u001b[0m\u001b[1;32mTrue\u001b[0m\u001b[1;33m:\u001b[0m\u001b[1;33m\u001b[0m\u001b[1;33m\u001b[0m\u001b[0m\n\u001b[0;32m      5\u001b[0m         \u001b[0mprint\u001b[0m\u001b[1;33m(\u001b[0m\u001b[1;34m\"do this....\"\u001b[0m\u001b[1;33m)\u001b[0m\u001b[1;33m\u001b[0m\u001b[1;33m\u001b[0m\u001b[0m\n",
      "\u001b[1;31mNameError\u001b[0m: name 'tables' is not defined"
     ]
    }
   ],
   "source": [
    "\n",
    "called_table=False          #initially when no table is calling the waiter,he is in kitchen\n",
    "for in range(10):   #for 10 tables\n",
    "for calling_table in tables:      #for waiter to search the table\n",
    "    input=bool(\"Do you want to order,type 'True' else 'False'\")\n",
    "    if calling_table==True:\n",
    "        print(\"do this....\")"
   ]
  },
  {
   "cell_type": "code",
   "execution_count": 3,
   "metadata": {},
   "outputs": [
    {
     "name": "stdout",
     "output_type": "stream",
     "text": [
      "which table has called for order...enter table no   2\n",
      "Table no 2 has called to order something\n",
      "execute this code\n"
     ]
    }
   ],
   "source": [
    "table=int(input(\"which table has called for order...enter table no   \"))       # according to the key pressed \n",
    "print(\"Table no {} has called to order something\".format(table))\n",
    "def get_order(table):\n",
    "    if table==1:\n",
    "        print(\"do this\")\n",
    "    elif table==2:\n",
    "        print(\"execute this code\")\n",
    "    elif table==3:\n",
    "        print(\"You have to do this\")\n",
    "    elif table==4:\n",
    "        print(\"case for table no 4 executed\")\n",
    "    elif table==5:\n",
    "        print(\"case for table no 5 executed\")\n",
    "    else:\n",
    "        print(\"you have selected an invalid table no\")\n",
    "\n",
    "get_order(table)\n",
    "    "
   ]
  },
  {
   "cell_type": "code",
   "execution_count": null,
   "metadata": {},
   "outputs": [],
   "source": []
  }
 ],
 "metadata": {
  "kernelspec": {
   "display_name": "Python 3",
   "language": "python",
   "name": "python3"
  },
  "language_info": {
   "codemirror_mode": {
    "name": "ipython",
    "version": 3
   },
   "file_extension": ".py",
   "mimetype": "text/x-python",
   "name": "python",
   "nbconvert_exporter": "python",
   "pygments_lexer": "ipython3",
   "version": "3.7.3"
  }
 },
 "nbformat": 4,
 "nbformat_minor": 4
}
