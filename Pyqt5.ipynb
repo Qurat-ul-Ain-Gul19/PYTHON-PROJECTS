{
 "cells": [
  {
   "cell_type": "markdown",
   "metadata": {},
   "source": [
    "# Pyqt5"
   ]
  },
  {
   "cell_type": "raw",
   "metadata": {},
   "source": [
    "Graphical Interface for Python\n",
    "Desktop Application"
   ]
  },
  {
   "cell_type": "raw",
   "metadata": {},
   "source": [
    "Pyqt5 is a wrapper around qt framework which is a framework for creating graphical user interfaces."
   ]
  },
  {
   "cell_type": "raw",
   "metadata": {},
   "source": [
    "tkinter and wxPython are also gui development frameworks"
   ]
  },
  {
   "cell_type": "code",
   "execution_count": 17,
   "metadata": {},
   "outputs": [],
   "source": [
    "import PyQt5"
   ]
  },
  {
   "cell_type": "code",
   "execution_count": 18,
   "metadata": {},
   "outputs": [],
   "source": [
    "import site"
   ]
  },
  {
   "cell_type": "code",
   "execution_count": 19,
   "metadata": {},
   "outputs": [
    {
     "name": "stdout",
     "output_type": "stream",
     "text": [
      "['C:\\\\Users\\\\Dell\\\\Anaconda3\\\\python', 'C:\\\\Users\\\\Dell\\\\Anaconda3\\\\python\\\\lib\\\\site-packages']\n"
     ]
    }
   ],
   "source": [
    "print(site.getsitepackages())"
   ]
  },
  {
   "cell_type": "code",
   "execution_count": 21,
   "metadata": {},
   "outputs": [
    {
     "name": "stdout",
     "output_type": "stream",
     "text": [
      "C:\\Users\\Dell\\Anaconda3\\python\n"
     ]
    }
   ],
   "source": [
    "import sys\n",
    "import os\n",
    "print (os.path.dirname(sys.executable))\n"
   ]
  },
  {
   "cell_type": "code",
   "execution_count": null,
   "metadata": {},
   "outputs": [],
   "source": [
    "pyuic5 -x \"C:\\Users\\Rauf\\Desktop\\mycode.ui\" –o \"C:\\Users\\Rauf\\Desktop\\mycode.py\"\n"
   ]
  },
  {
   "cell_type": "code",
   "execution_count": 22,
   "metadata": {},
   "outputs": [
    {
     "ename": "SyntaxError",
     "evalue": "invalid syntax (<ipython-input-22-23ee78fd1928>, line 1)",
     "output_type": "error",
     "traceback": [
      "\u001b[1;36m  File \u001b[1;32m\"<ipython-input-22-23ee78fd1928>\"\u001b[1;36m, line \u001b[1;32m1\u001b[0m\n\u001b[1;33m    pyuic5 -x \"C:\\Users\\Dell\\Desktop\\anie.ui\" -o \"C:\\Users\\Dell\\Pyqt5.py\"\u001b[0m\n\u001b[1;37m                                            ^\u001b[0m\n\u001b[1;31mSyntaxError\u001b[0m\u001b[1;31m:\u001b[0m invalid syntax\n"
     ]
    }
   ],
   "source": [
    "pyuic5 -x \"C:\\Users\\Dell\\Desktop\\anie.ui\" -o \"C:\\Users\\Dell\\Pyqt5.py\""
   ]
  },
  {
   "cell_type": "code",
   "execution_count": null,
   "metadata": {},
   "outputs": [],
   "source": []
  }
 ],
 "metadata": {
  "kernelspec": {
   "display_name": "Python 3",
   "language": "python",
   "name": "python3"
  },
  "language_info": {
   "codemirror_mode": {
    "name": "ipython",
    "version": 3
   },
   "file_extension": ".py",
   "mimetype": "text/x-python",
   "name": "python",
   "nbconvert_exporter": "python",
   "pygments_lexer": "ipython3",
   "version": "3.7.3"
  }
 },
 "nbformat": 4,
 "nbformat_minor": 2
}
