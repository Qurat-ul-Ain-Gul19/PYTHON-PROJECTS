{
 "cells": [
  {
   "cell_type": "code",
   "execution_count": 4,
   "metadata": {},
   "outputs": [
    {
     "ename": "SyntaxError",
     "evalue": "(unicode error) 'unicodeescape' codec can't decode bytes in position 2-3: truncated \\UXXXXXXXX escape (<ipython-input-4-4092af8f6792>, line 8)",
     "output_type": "error",
     "traceback": [
      "\u001b[1;36m  File \u001b[1;32m\"<ipython-input-4-4092af8f6792>\"\u001b[1;36m, line \u001b[1;32m8\u001b[0m\n\u001b[1;33m    with open('C:\\Users\\Dell\\Python Libraries Projects/coco.names', \"rt\") as f:\u001b[0m\n\u001b[1;37m             ^\u001b[0m\n\u001b[1;31mSyntaxError\u001b[0m\u001b[1;31m:\u001b[0m (unicode error) 'unicodeescape' codec can't decode bytes in position 2-3: truncated \\UXXXXXXXX escape\n"
     ]
    }
   ],
   "source": [
    "import cv2\n",
    "import numpy as np\n",
    "\n",
    "classes = []\n",
    "confidenceTreshold= 0.5\n",
    "nms_threshold= 0.3\n",
    "\n",
    "with open('C:\\Users\\Dell\\Python Libraries Projects/coco.names', \"rt\") as f:\n",
    "    classes = [line.strip() for line in f.readlines()]\n",
    "print(classes)\n",
    "cap= cv2.VideoCapture(\"videos/abdullah.mp4\")\n",
    "\n",
    "wht= 416\n",
    "\n",
    "modelConfiguration= \"files/35 fps med resolution 416/yolov3.cfg\"\n",
    "modelWeights= \"files/35 fps med resolution 416/yolov3.weights\"\n",
    "\n",
    "net = cv2.dnn.readNetFromDarknet(modelConfiguration, modelWeights) #here we are loading the neural network\n",
    "net.setPreferableBackend(cv2.dnn.DNN_BACKEND_OPENCV)\n",
    "net.setPreferableTarget(cv2.dnn.DNN_TARGET_CPU)\n",
    "\n",
    "def findObjects(outputs, img):\n",
    "    hT, wT, cT= img.shape\n",
    "    bbox= []\n",
    "    classIds= []\n",
    "    confs= []\n",
    "    for output in outputs:\n",
    "        for det in output:\n",
    "            scores= det[5:]\n",
    "            classId= np.argmax(scores)\n",
    "            confidence= scores[classId]\n",
    "\n",
    "            if confidence > confidenceTreshold:\n",
    "                w,h= int(det[2]*wT), int(det[3]*hT) #pixel values\n",
    "                x,y= int((det[0]*wT)-w/2), int((det[1]*hT)-h/2)\n",
    "                bbox.append([x,y,w,h])\n",
    "                classIds.append(classId)\n",
    "                confs.append(float(confidence))\n",
    "    # print(len(bbox))\n",
    "    indices= cv2.dnn.NMSBoxes(bbox, confs, confidenceTreshold, nms_threshold)\n",
    "\n",
    "    for i in indices:\n",
    "        i= i[0]\n",
    "        box= bbox[i]\n",
    "        x,y,w,h= box[0], box[1], box[2], box[3]\n",
    "        cv2.rectangle(img, (x,y), (x+w,y+h), (255,0,255), 2)\n",
    "        cv2.putText(img,f\"{classes[classIds[i]].upper()} {int(confs[i]*100)}%\",\n",
    "                    (x,y-10), cv2.FONT_HERSHEY_SIMPLEX, 0.6, (255,0,255),2)\n",
    "\n",
    "\n",
    "\n",
    "\n",
    "\n",
    "\n",
    "\n",
    "while True:\n",
    "    success, img= cap.read()\n",
    "\n",
    "    blob= cv2.dnn.blobFromImage(img, 1/255, (wht,wht), [0,0,0], 1, crop=False)\n",
    "    net.setInput(blob)\n",
    "\n",
    "    layer_names = net.getLayerNames()\n",
    "    # print(layer_names)\n",
    "    # print(net.getUnconnectedOutLayers())\n",
    "    output_layers = [layer_names[i[0] - 1] for i in net.getUnconnectedOutLayers()]\n",
    "    # print(output_layers)\n",
    "    outs = net.forward(output_layers)\n",
    "    # print(len(outs))\n",
    "    # print(type(outs))\n",
    "    # print(len(outs[0]))\n",
    "    # print(outs[0].shape)\n",
    "    # print(outs[1].shape)\n",
    "    # print(outs[2].shape)\n",
    "    findObjects(outs, img)\n",
    "\n",
    "\n",
    "    cv2.imshow(\"video\", img)\n",
    "    if cv2.waitKey(1) & 0xFF == ord(\"q\"):\n",
    "        break"
   ]
  },
  {
   "cell_type": "code",
   "execution_count": null,
   "metadata": {},
   "outputs": [],
   "source": []
  }
 ],
 "metadata": {
  "kernelspec": {
   "display_name": "Python 3",
   "language": "python",
   "name": "python3"
  },
  "language_info": {
   "codemirror_mode": {
    "name": "ipython",
    "version": 3
   },
   "file_extension": ".py",
   "mimetype": "text/x-python",
   "name": "python",
   "nbconvert_exporter": "python",
   "pygments_lexer": "ipython3",
   "version": "3.7.3"
  }
 },
 "nbformat": 4,
 "nbformat_minor": 4
}
