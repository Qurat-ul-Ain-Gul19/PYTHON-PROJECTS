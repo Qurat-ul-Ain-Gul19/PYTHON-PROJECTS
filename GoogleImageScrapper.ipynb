{
  "nbformat": 4,
  "nbformat_minor": 0,
  "metadata": {
    "colab": {
      "name": "GoogleImageScrapper.ipynb",
      "provenance": [],
      "authorship_tag": "ABX9TyMSWWYCet6gzJZGQcrUWPLm",
      "include_colab_link": true
    },
    "kernelspec": {
      "name": "python3",
      "display_name": "Python 3"
    },
    "language_info": {
      "name": "python"
    }
  },
  "cells": [
    {
      "cell_type": "markdown",
      "metadata": {
        "id": "view-in-github",
        "colab_type": "text"
      },
      "source": [
        "<a href=\"https://colab.research.google.com/github/Qurat-ul-Ain-Gul19/PYTHON-PROJECTS/blob/master/GoogleImageScrapper.ipynb\" target=\"_parent\"><img src=\"https://colab.research.google.com/assets/colab-badge.svg\" alt=\"Open In Colab\"/></a>"
      ]
    },
    {
      "cell_type": "code",
      "metadata": {
        "id": "G-OpWT53oxNj"
      },
      "source": [
        "import os, json, time\n",
        "import requests\n",
        "import urllib.request as urllibreq\n",
        "from bs4 import BeautifulSoup"
      ],
      "execution_count": 1,
      "outputs": []
    },
    {
      "cell_type": "code",
      "metadata": {
        "colab": {
          "base_uri": "https://localhost:8080/"
        },
        "id": "X6674TH3oirM",
        "outputId": "f7ad5394-ed8c-4efd-9ab4-d9f7dadb0e87"
      },
      "source": [
        "\n",
        "def scrape_google_images(query, k, outDir, dt_stall):\n",
        "    print(\"Scraping top k={} Google images for query: '{}'\".format(k, query))\n",
        "\n",
        "    # Create output directory\n",
        "    if not os.path.exists(outDir):\n",
        "        os.mkdir(outDir)\n",
        "\n",
        "\n",
        "\n",
        "\n",
        "#https://www.google.com/search?q=rhinoplasty+before+and+after+pics&rlz=1C1JZAP_enPK925PK925&sxsrf=AOaemvJlsBh0TsI9JONLhNTc-l16NB6nYA:1631343373455&source=lnms&tbm=isch&sa=X&ved=2ahUKEwjvyJ_Sq_byAhWL2hQKHU28BL8Q_AUoAXoECAEQAw&biw=1536&bih=722\n",
        "   \n",
        "   \n",
        "    # Construct image url to scrape from\n",
        "    url = \"https://www.google.co.in/search?q=\" + \\\n",
        "          '+'.join(query.split()) + \"rhinoplasty+before+and+after+pics&rlz=1C1JZAP_enPK925PK925&sxsrf=AOaemvJlsBh0TsI9JONLhNTc-l16NB6nYA:1631343373455&source=lnms&tbm=isch&sa=X&ved=2ahUKEwjvyJ_Sq_byAhWL2hQKHU28BL8Q_AUoAXoECAEQAw&biw=1536&bih=722\"\n",
        "    header = {'User-Agent': \"Mozilla/5.0 (Windows NT 6.1; WOW64) AppleWebKit/537.36 (KHTML, like Gecko) Chrome/43.0.2357.134 Safari/537.36\"}\n",
        "\n",
        "    # Download html + parse it to get all image urls\n",
        "    html = urllibreq.urlopen(urllibreq.Request(url, headers=header))\n",
        "    soup = BeautifulSoup(html,'html.parser')\n",
        "    urls = [json.loads(x.text)[\"ou\"]\n",
        "            for x in soup.find_all(\"div\", {\"class\": \"rg_meta\"})]\n",
        "    print(\"Parsed {} google image urls!\".format(len(urls)))\n",
        "\n",
        "    # Download top-k images\n",
        "    for i, url in enumerate(urls[:min(k, len(urls))]):\n",
        "        imgFile = os.path.join(outDir, query + \"-\" + str(i+1) + \".jpg\")\n",
        "        print(\"[{}/{}] Downloading image {} to '{}'...\".format(i+1, k, url, imgFile))\n",
        "        try:\n",
        "            with open(imgFile, 'wb') as handle:\n",
        "                response = requests.get(url, stream=True)\n",
        "                if not response.ok:\n",
        "                    print(response)\n",
        "                for block in response.iter_content(1024):\n",
        "                    if not block:\n",
        "                        break\n",
        "                    handle.write(block)\n",
        "            time.sleep(dt_stall)  # force pause\n",
        "        except:\n",
        "            raise Exception(\"  -> Failed downloading: \" + url)\n",
        "\n",
        "query = \"rhinoplasty before and after pics\"  # google images query text\n",
        "k = 5  # top-k images will be scraped\n",
        "outDir = os.path.join(os.getcwd(), \"/content/output\")  # output directory to save images\n",
        "dt_stall = 2  # number of seconds to stall between image scrapes\n",
        "scrape_google_images(query=query, k=k, outDir=outDir, dt_stall=dt_stall)"
      ],
      "execution_count": 9,
      "outputs": [
        {
          "output_type": "stream",
          "name": "stdout",
          "text": [
            "Scraping top k=5 Google images for query: 'rhinoplasty before and after pics'\n",
            "Parsed 0 google image urls!\n"
          ]
        }
      ]
    },
    {
      "cell_type": "code",
      "metadata": {
        "id": "spDG_NCHo_a9"
      },
      "source": [
        ""
      ],
      "execution_count": null,
      "outputs": []
    }
  ]
}