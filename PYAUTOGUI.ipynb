{
 "cells": [
  {
   "cell_type": "markdown",
   "metadata": {},
   "source": [
    "# PYAUTOGUI"
   ]
  },
  {
   "cell_type": "code",
   "execution_count": 3,
   "metadata": {},
   "outputs": [],
   "source": [
    "import pyautogui as pg\n",
    "#pyautogui is a python library, supports automation using grapical user interphase "
   ]
  },
  {
   "cell_type": "code",
   "execution_count": 41,
   "metadata": {},
   "outputs": [
    {
     "data": {
      "text/plain": [
       "'cancel'"
      ]
     },
     "execution_count": 41,
     "metadata": {},
     "output_type": "execute_result"
    }
   ],
   "source": [
    "pg.alert(text='An unwanted error has occured *** click cancel button to exit...!',\n",
    "         title='Error Generated',button='cancel') \n",
    "#Displays a simple message box with text and a single OK button. Returns the text of the button clicked on."
   ]
  },
  {
   "cell_type": "code",
   "execution_count": 23,
   "metadata": {},
   "outputs": [
    {
     "data": {
      "text/plain": [
       "'yes'"
      ]
     },
     "execution_count": 23,
     "metadata": {},
     "output_type": "execute_result"
    }
   ],
   "source": [
    "pg.confirm(text=\"Dear user, is your problem solved...?\",title=\"testing...\",buttons=['yes','no'])   \n",
    "#Displays a message box with OK and Cancel buttons. Number and text of buttons can be customized. \n",
    "#Returns the text of the button clicked on"
   ]
  },
  {
   "cell_type": "code",
   "execution_count": 42,
   "metadata": {},
   "outputs": [
    {
     "data": {
      "text/plain": [
       "'maybe'"
      ]
     },
     "execution_count": 42,
     "metadata": {},
     "output_type": "execute_result"
    }
   ],
   "source": [
    "pg.confirm(text=\"Do you want to exit...?\",title=\"Exit test...\",buttons=['yes','no','maybe'])   #confirm function "
   ]
  },
  {
   "cell_type": "code",
   "execution_count": 48,
   "metadata": {},
   "outputs": [
    {
     "data": {
      "text/plain": [
       "'Invalid option'"
      ]
     },
     "execution_count": 48,
     "metadata": {},
     "output_type": "execute_result"
    }
   ],
   "source": [
    "pg.prompt(text='Press 1 for english and 2 for urdu',title='ZONG CUSTOMER-CARE SERVICES',\n",
    "          default='Invalid option')                           # prompt function already has ok and cancel buttons\n",
    "                                                                #it simply takes the user choice and does that\n"
   ]
  },
  {
   "cell_type": "code",
   "execution_count": 47,
   "metadata": {},
   "outputs": [
    {
     "data": {
      "text/plain": [
       "'1'"
      ]
     },
     "execution_count": 47,
     "metadata": {},
     "output_type": "execute_result"
    }
   ],
   "source": [
    "pg.prompt(text='Press 1 for english and 2 for urdu',title='ZONG CUSTOMER-CARE SERVICES',\n",
    "          default='Invalid option')                          \n",
    "#Displays a message box with text input, and OK & Cancel buttons.\n",
    "#Returns the text entered, or None if Cancel was clicked"
   ]
  },
  {
   "cell_type": "code",
   "execution_count": 49,
   "metadata": {},
   "outputs": [
    {
     "data": {
      "text/plain": [
       "'sabina aziz'"
      ]
     },
     "execution_count": 49,
     "metadata": {},
     "output_type": "execute_result"
    }
   ],
   "source": [
    "pg.password(text=\"Enter you password\",title=\"Authenticating...\",default=\"Invalid\",mask=\"*\")\n",
    "#Displays a message box with text input, and OK & Cancel buttons\n",
    "#Typed characters appear as *\n",
    "#Returns the text entered, or None if Cancel was clicked"
   ]
  },
  {
   "cell_type": "code",
   "execution_count": 40,
   "metadata": {},
   "outputs": [
    {
     "data": {
      "text/plain": [
       "'asmat imran'"
      ]
     },
     "execution_count": 40,
     "metadata": {},
     "output_type": "execute_result"
    }
   ],
   "source": [
    "pg.password(text=\"Enter you password\",title=\"Authenticating...\",default=\"Invalid\",mask=\"@\")"
   ]
  },
  {
   "cell_type": "code",
   "execution_count": 53,
   "metadata": {},
   "outputs": [
    {
     "name": "stdout",
     "output_type": "stream",
     "text": [
      "enter your user id...sabina\n",
      "ACCESS GRANTED...!\n"
     ]
    }
   ],
   "source": [
    "password=input(\"enter your user id...\")\n",
    "check_if=pg.password(text=\"enter your password\",title=\"Checking user Validity...\",mask=\"*\")\n",
    "if check_if== password:\n",
    "    print(\"ACCESS GRANTED...!\")\n",
    "else:\n",
    "    print(\"Wrong password\")"
   ]
  },
  {
   "cell_type": "code",
   "execution_count": 54,
   "metadata": {},
   "outputs": [
    {
     "name": "stdout",
     "output_type": "stream",
     "text": [
      "enter your user id...123@abc\n",
      "Wrong password\n"
     ]
    }
   ],
   "source": [
    "password=input(\"enter your user id...\")\n",
    "check_if=pg.password(text=\"enter your password\",title=\"Checking user Validity...\",mask=\"*\")\n",
    "if check_if== password:\n",
    "    print(\"ACCESS GRANTED...!\")\n",
    "else:\n",
    "    print(\"Wrong password\")"
   ]
  },
  {
   "cell_type": "code",
   "execution_count": 56,
   "metadata": {},
   "outputs": [
    {
     "name": "stdout",
     "output_type": "stream",
     "text": [
      "LOGIN SUCESSFULL\n"
     ]
    }
   ],
   "source": [
    "pwd=pg.confirm(text=\"Press yes to login into your piaic account \",title=\"LOGIN\",buttons=[\"yes\",'no'])\n",
    "if pwd==\"yes\":\n",
    "    print(\"LOGIN SUCESSFULL\")\n",
    "else:\n",
    "    print(\"LOGIN FAILED\")"
   ]
  },
  {
   "cell_type": "code",
   "execution_count": 57,
   "metadata": {},
   "outputs": [
    {
     "name": "stdout",
     "output_type": "stream",
     "text": [
      "LOGIN FAILED\n"
     ]
    }
   ],
   "source": [
    "pwd=pg.confirm(text=\"Press yes to login into your piaic account \",title=\"LOGIN\",buttons=[\"yes\",'no'])\n",
    "if pwd==\"yes\":\n",
    "    print(\"LOGIN SUCESSFULL\")\n",
    "else:\n",
    "    print(\"LOGIN FAILED\")"
   ]
  },
  {
   "cell_type": "code",
   "execution_count": null,
   "metadata": {},
   "outputs": [],
   "source": []
  }
 ],
 "metadata": {
  "kernelspec": {
   "display_name": "Python 3",
   "language": "python",
   "name": "python3"
  },
  "language_info": {
   "codemirror_mode": {
    "name": "ipython",
    "version": 3
   },
   "file_extension": ".py",
   "mimetype": "text/x-python",
   "name": "python",
   "nbconvert_exporter": "python",
   "pygments_lexer": "ipython3",
   "version": "3.7.3"
  }
 },
 "nbformat": 4,
 "nbformat_minor": 2
}
